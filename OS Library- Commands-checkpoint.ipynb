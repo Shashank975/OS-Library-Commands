{
 "cells": [
  {
   "cell_type": "code",
   "execution_count": 1,
   "id": "04c7f036",
   "metadata": {},
   "outputs": [],
   "source": [
    "import os"
   ]
  },
  {
   "cell_type": "code",
   "execution_count": 2,
   "id": "a3e5ad8f",
   "metadata": {},
   "outputs": [
    {
     "data": {
      "text/plain": [
       "'C:\\\\Users\\\\LENOVO\\\\Desktop'"
      ]
     },
     "execution_count": 2,
     "metadata": {},
     "output_type": "execute_result"
    }
   ],
   "source": [
    "os.getcwd() #It will show me the current directory i am working on.CWD-> Current Working Directory"
   ]
  },
  {
   "cell_type": "code",
   "execution_count": 3,
   "id": "8bffdfea",
   "metadata": {},
   "outputs": [
    {
     "data": {
      "text/plain": [
       "'C:\\\\Users\\\\LENOVO\\\\Desktop'"
      ]
     },
     "execution_count": 3,
     "metadata": {},
     "output_type": "execute_result"
    }
   ],
   "source": [
    "pwd"
   ]
  },
  {
   "cell_type": "code",
   "execution_count": 4,
   "id": "6321e4ad",
   "metadata": {},
   "outputs": [],
   "source": [
    "os.chdir(\"HP\")# By using the (chdir)we can go inside the folder"
   ]
  },
  {
   "cell_type": "code",
   "execution_count": 5,
   "id": "f881b9ca",
   "metadata": {},
   "outputs": [
    {
     "data": {
      "text/plain": [
       "'C:\\\\Users\\\\LENOVO\\\\Desktop\\\\HP'"
      ]
     },
     "execution_count": 5,
     "metadata": {},
     "output_type": "execute_result"
    }
   ],
   "source": [
    "os.getcwd()"
   ]
  },
  {
   "cell_type": "code",
   "execution_count": 6,
   "id": "e7fb4efc",
   "metadata": {},
   "outputs": [
    {
     "data": {
      "text/plain": [
       "'C:\\\\Users\\\\LENOVO\\\\Desktop'"
      ]
     },
     "execution_count": 6,
     "metadata": {},
     "output_type": "execute_result"
    }
   ],
   "source": [
    "os.chdir(\"../\")# By using the (\"../\") we can go back to our previous directory \n",
    "os.getcwd()"
   ]
  },
  {
   "cell_type": "code",
   "execution_count": 7,
   "id": "cbd68bd8",
   "metadata": {},
   "outputs": [
    {
     "data": {
      "text/plain": [
       "'C:\\\\Users\\\\LENOVO\\\\Desktop'"
      ]
     },
     "execution_count": 7,
     "metadata": {},
     "output_type": "execute_result"
    }
   ],
   "source": [
    "os.mkdir(\"GFG\") #the command mkdir is used to create the new folder\n",
    "os.getcwd()"
   ]
  },
  {
   "cell_type": "code",
   "execution_count": 9,
   "id": "2c9ec082",
   "metadata": {},
   "outputs": [
    {
     "data": {
      "text/plain": [
       "'C:\\\\Users\\\\LENOVO\\\\Desktop'"
      ]
     },
     "execution_count": 9,
     "metadata": {},
     "output_type": "execute_result"
    }
   ],
   "source": [
    "os.makedirs(\"GFG/Shashank\") #makedirs command is used to creat the folder within a folder. \n",
    "os.getcwd()"
   ]
  },
  {
   "cell_type": "code",
   "execution_count": 10,
   "id": "567954d5",
   "metadata": {},
   "outputs": [
    {
     "data": {
      "text/plain": [
       "'C:\\\\Users\\\\LENOVO\\\\Desktop'"
      ]
     },
     "execution_count": 10,
     "metadata": {},
     "output_type": "execute_result"
    }
   ],
   "source": [
    "os.path.join(\"GFG\",\"shashank\")\n",
    "os.getcwd()"
   ]
  },
  {
   "cell_type": "code",
   "execution_count": 13,
   "id": "7315046a",
   "metadata": {},
   "outputs": [],
   "source": [
    "os.rmdir(\"GFG/shashank\")#delet a folder inside another folder\n"
   ]
  },
  {
   "cell_type": "code",
   "execution_count": 14,
   "id": "c5adb25d",
   "metadata": {},
   "outputs": [
    {
     "data": {
      "text/plain": [
       "'C:\\\\Users\\\\LENOVO\\\\Desktop'"
      ]
     },
     "execution_count": 14,
     "metadata": {},
     "output_type": "execute_result"
    }
   ],
   "source": [
    "os.getcwd()"
   ]
  },
  {
   "cell_type": "code",
   "execution_count": 21,
   "id": "79594097",
   "metadata": {},
   "outputs": [
    {
     "ename": "FileNotFoundError",
     "evalue": "[WinError 2] The system cannot find the file specified: 'GFG'",
     "output_type": "error",
     "traceback": [
      "\u001b[1;31m---------------------------------------------------------------------------\u001b[0m",
      "\u001b[1;31mFileNotFoundError\u001b[0m                         Traceback (most recent call last)",
      "Cell \u001b[1;32mIn[21], line 1\u001b[0m\n\u001b[1;32m----> 1\u001b[0m \u001b[43mos\u001b[49m\u001b[38;5;241;43m.\u001b[39;49m\u001b[43mrmdir\u001b[49m\u001b[43m(\u001b[49m\u001b[38;5;124;43m'\u001b[39;49m\u001b[38;5;124;43mGFG\u001b[39;49m\u001b[38;5;124;43m'\u001b[39;49m\u001b[43m)\u001b[49m\n\u001b[0;32m      2\u001b[0m os\u001b[38;5;241m.\u001b[39mgetcwd()\n",
      "\u001b[1;31mFileNotFoundError\u001b[0m: [WinError 2] The system cannot find the file specified: 'GFG'"
     ]
    }
   ],
   "source": [
    "os.rmdir('GFG')#delete the folder\n",
    "os.getcwd()"
   ]
  },
  {
   "cell_type": "code",
   "execution_count": 22,
   "id": "b57142fe",
   "metadata": {},
   "outputs": [
    {
     "data": {
      "text/plain": [
       "'C:\\\\Users\\\\LENOVO\\\\Desktop'"
      ]
     },
     "execution_count": 22,
     "metadata": {},
     "output_type": "execute_result"
    }
   ],
   "source": [
    "os.mkdir(\"GFG\") #make a folder\n",
    "os.getcwd()"
   ]
  },
  {
   "cell_type": "code",
   "execution_count": 24,
   "id": "18ca9237",
   "metadata": {},
   "outputs": [
    {
     "data": {
      "text/plain": [
       "'C:\\\\Users\\\\LENOVO\\\\Desktop'"
      ]
     },
     "execution_count": 24,
     "metadata": {},
     "output_type": "execute_result"
    }
   ],
   "source": [
    "os.listdir(\"College Project\")\n",
    "os.getcwd()"
   ]
  },
  {
   "cell_type": "code",
   "execution_count": 29,
   "id": "c9fc4193",
   "metadata": {},
   "outputs": [
    {
     "data": {
      "text/plain": [
       "['.firebase',\n",
       " '.firebaserc',\n",
       " '.gitignore',\n",
       " 'firebase.json',\n",
       " 'node_modules',\n",
       " 'package-lock.json',\n",
       " 'package.json',\n",
       " 'README.md',\n",
       " 'src',\n",
       " 'yarn.lock']"
      ]
     },
     "execution_count": 29,
     "metadata": {},
     "output_type": "execute_result"
    }
   ],
   "source": [
    "os.listdir(\"College Project\")"
   ]
  },
  {
   "cell_type": "code",
   "execution_count": 28,
   "id": "d2baead5",
   "metadata": {},
   "outputs": [
    {
     "name": "stdout",
     "output_type": "stream",
     "text": [
      ".firebase\n",
      ".firebaserc\n",
      ".gitignore\n",
      "firebase.json\n",
      "node_modules\n",
      "package-lock.json\n",
      "package.json\n",
      "README.md\n",
      "src\n",
      "yarn.lock\n"
     ]
    }
   ],
   "source": [
    "for i in os.listdir(\"College Project\"):\n",
    "    print(i)"
   ]
  },
  {
   "cell_type": "code",
   "execution_count": 34,
   "id": "c93e1958",
   "metadata": {},
   "outputs": [],
   "source": [
    "os.rename(\"shashank\",\"GFG\") #we can rename the folder name "
   ]
  },
  {
   "cell_type": "code",
   "execution_count": 36,
   "id": "7794cf3d",
   "metadata": {},
   "outputs": [],
   "source": [
    "os.mkdir(\"GFG/GFG1\")"
   ]
  },
  {
   "cell_type": "code",
   "execution_count": 44,
   "id": "3623e4d1",
   "metadata": {},
   "outputs": [
    {
     "name": "stdout",
     "output_type": "stream",
     "text": [
      "Folder Already Exists!\n"
     ]
    }
   ],
   "source": [
    "if os.path.exists(\"GFG/G1\"):\n",
    "    print(\"Folder Already Exists!\")\n",
    "else:\n",
    "    os.mkdir('GFG/G1')"
   ]
  },
  {
   "cell_type": "code",
   "execution_count": 42,
   "id": "b2d38b92",
   "metadata": {},
   "outputs": [],
   "source": [
    "os.rmdir(\"GFG/G1\")"
   ]
  },
  {
   "cell_type": "code",
   "execution_count": 46,
   "id": "0d96c376",
   "metadata": {},
   "outputs": [
    {
     "data": {
      "text/plain": [
       "0"
      ]
     },
     "execution_count": 46,
     "metadata": {},
     "output_type": "execute_result"
    }
   ],
   "source": [
    "os.path.getsize(\"GFG\")"
   ]
  },
  {
   "cell_type": "code",
   "execution_count": 47,
   "id": "b5d45ded",
   "metadata": {},
   "outputs": [],
   "source": [
    "#OS LIBRABRY - BULK DIRECTORIES CREATION"
   ]
  },
  {
   "cell_type": "code",
   "execution_count": 65,
   "id": "469904df",
   "metadata": {},
   "outputs": [
    {
     "name": "stdout",
     "output_type": "stream",
     "text": [
      "k/k 1\n",
      "k/k 1/k 1\n",
      "k/k 1/k 2\n",
      "k/k 1/k 3\n",
      "k/k 1/k 4\n",
      "k/k 1/k 5\n",
      "k/k 2\n",
      "k/k 2/k 1\n",
      "k/k 2/k 2\n",
      "k/k 2/k 3\n",
      "k/k 2/k 4\n",
      "k/k 2/k 5\n",
      "k/k 3\n",
      "k/k 3/k 1\n",
      "k/k 3/k 2\n",
      "k/k 3/k 3\n",
      "k/k 3/k 4\n",
      "k/k 3/k 5\n",
      "k/k 4\n",
      "k/k 4/k 1\n",
      "k/k 4/k 2\n",
      "k/k 4/k 3\n",
      "k/k 4/k 4\n",
      "k/k 4/k 5\n",
      "k/k 5\n",
      "k/k 5/k 1\n",
      "k/k 5/k 2\n",
      "k/k 5/k 3\n",
      "k/k 5/k 4\n",
      "k/k 5/k 5\n",
      "k/k 6\n",
      "k/k 6/k 1\n",
      "k/k 6/k 2\n",
      "k/k 6/k 3\n",
      "k/k 6/k 4\n",
      "k/k 6/k 5\n",
      "k/k 7\n",
      "k/k 7/k 1\n",
      "k/k 7/k 2\n",
      "k/k 7/k 3\n",
      "k/k 7/k 4\n",
      "k/k 7/k 5\n",
      "k/k 8\n",
      "k/k 8/k 1\n",
      "k/k 8/k 2\n",
      "k/k 8/k 3\n",
      "k/k 8/k 4\n",
      "k/k 8/k 5\n",
      "k/k 9\n",
      "k/k 9/k 1\n",
      "k/k 9/k 2\n",
      "k/k 9/k 3\n",
      "k/k 9/k 4\n",
      "k/k 9/k 5\n",
      "k/k 10\n",
      "k/k 10/k 1\n",
      "k/k 10/k 2\n",
      "k/k 10/k 3\n",
      "k/k 10/k 4\n",
      "k/k 10/k 5\n",
      "46\n"
     ]
    }
   ],
   "source": [
    "master = \"k\"\n",
    "os.mkdir(master)\n",
    "for i in range(10):\n",
    "    name = master+\"/\"+master + \" \"+str(i+1)\n",
    "    print(name)\n",
    "    os.mkdir(name)\n",
    "    for j in range (5):\n",
    "        name = master +'/'+ master + \" \" + str(i+1) +\"/\"+ master + \" \" + str(j+1) \n",
    "        os.mkdir(name)\n",
    "        print(name)\n",
    "print((i*j)+i+1)"
   ]
  },
  {
   "cell_type": "code",
   "execution_count": 72,
   "id": "57008fd7",
   "metadata": {},
   "outputs": [
    {
     "name": "stdout",
     "output_type": "stream",
     "text": [
      "Not Exits\n"
     ]
    }
   ],
   "source": [
    "if os.path.exists(\"k/k 1/k 1\"):\n",
    "    print(\"Folder Already Exists!\")\n",
    "else:\n",
    "    print(\"Not Exits\")"
   ]
  },
  {
   "cell_type": "code",
   "execution_count": 73,
   "id": "d332e190",
   "metadata": {},
   "outputs": [
    {
     "data": {
      "text/plain": [
       "False"
      ]
     },
     "execution_count": 73,
     "metadata": {},
     "output_type": "execute_result"
    }
   ],
   "source": [
    "os.path.exists(\"k/k 1/k 1\")"
   ]
  },
  {
   "cell_type": "code",
   "execution_count": 83,
   "id": "27fe837c",
   "metadata": {},
   "outputs": [],
   "source": [
    "n='k'\n",
    "os.mkdir(n)\n",
    "for i in range (10000):\n",
    "    name = n+'/'+n+\" \"+str(i+1)\n",
    "    os.mkdir(name)"
   ]
  },
  {
   "cell_type": "code",
   "execution_count": 86,
   "id": "27573be9",
   "metadata": {},
   "outputs": [
    {
     "name": "stdout",
     "output_type": "stream",
     "text": [
      "3932160 Bits\n"
     ]
    }
   ],
   "source": [
    "print(os.path.getsize(\"k\"),\"Bits\")"
   ]
  },
  {
   "cell_type": "code",
   "execution_count": 87,
   "id": "2dede5c9",
   "metadata": {},
   "outputs": [
    {
     "ename": "OSError",
     "evalue": "[WinError 145] The directory is not empty: 'juhi89'",
     "output_type": "error",
     "traceback": [
      "\u001b[1;31m---------------------------------------------------------------------------\u001b[0m",
      "\u001b[1;31mOSError\u001b[0m                                   Traceback (most recent call last)",
      "Cell \u001b[1;32mIn[87], line 1\u001b[0m\n\u001b[1;32m----> 1\u001b[0m \u001b[43mos\u001b[49m\u001b[38;5;241;43m.\u001b[39;49m\u001b[43mrmdir\u001b[49m\u001b[43m(\u001b[49m\u001b[38;5;124;43m\"\u001b[39;49m\u001b[38;5;124;43mjuhi89\u001b[39;49m\u001b[38;5;124;43m\"\u001b[39;49m\u001b[43m)\u001b[49m\n",
      "\u001b[1;31mOSError\u001b[0m: [WinError 145] The directory is not empty: 'juhi89'"
     ]
    }
   ],
   "source": [
    "os.rmdir(\"k\")"
   ]
  },
  {
   "cell_type": "code",
   "execution_count": null,
   "id": "77b023ba",
   "metadata": {},
   "outputs": [],
   "source": []
  }
 ],
 "metadata": {
  "kernelspec": {
   "display_name": "Python 3 (ipykernel)",
   "language": "python",
   "name": "python3"
  },
  "language_info": {
   "codemirror_mode": {
    "name": "ipython",
    "version": 3
   },
   "file_extension": ".py",
   "mimetype": "text/x-python",
   "name": "python",
   "nbconvert_exporter": "python",
   "pygments_lexer": "ipython3",
   "version": "3.11.1"
  }
 },
 "nbformat": 4,
 "nbformat_minor": 5
}
